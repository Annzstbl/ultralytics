{
 "cells": [
  {
   "cell_type": "code",
   "execution_count": null,
   "metadata": {},
   "outputs": [],
   "source": [
    "# 车辆统计\n",
    "# \n",
    "\n",
    "\n",
    "from ultralytics import YOLO\n",
    "import os.path as osp\n",
    "import cv2\n",
    "from matplotlib import pyplot as plt\n",
    "%matplotlib inline\n",
    "plt.rcParams['figure.figsize'] = (10.0, 8.0) # Set default size of plots.\n",
    "plt.rcParams['image.interpolation'] = 'nearest'\n",
    "plt.rcParams['image.cmap'] = 'gray'\n",
    "\n",
    "%load_ext autoreload\n",
    "%autoreload 2\n",
    "\n",
    "plt.figure(figsize=(20, 40))\n",
    "plt.gcf().tight_layout()\n",
    "\n",
    "\n",
    "# Load an official or custom model\n",
    "model = YOLO(\"yolov8n.pt\")  # Load an official Detect model\n",
    "# model = YOLO(\"yolov8n-seg.pt\")  # Load an official Segment model\n",
    "# model = YOLO(\"yolov8n-pose.pt\")  # Load an official Pose model\n",
    "# model = YOLO(\"path/to/best.pt\")  # Load a custom trained model\n",
    "\n",
    "# Perform tracking with the model\n",
    "# results = model.track(\"https://youtu.be/LNwODJXcvt4\", show=True)  # Tracking with default tracker\n",
    "# results = model.track(\"https://youtu.be/LNwODJXcvt4\", show=True, tracker=\"bytetrack.yaml\")  # with ByteTrack\n",
    "video_root_path = '/data3/PublicDataset/Custom/traffic_counter/'\n",
    "\n",
    "video1 = osp.join(video_root_path, '32.31.250.108', '20240501_20240501135236_20240501160912_135235.mp4')\n",
    "cap = cv2.VideoCapture(video1)\n",
    "\n",
    "while True:\n",
    "    succes, frame = cap.read()\n",
    "\n",
    "    if succes:\n",
    "        results = model.track(frame, persist=True)\n",
    "\n",
    "        annotated_frame = results[0].plot()\n",
    "\n",
    "        plt.imshow(annotated_frame/255)\n",
    "        plt.axis('off')\n",
    "        break\n"
   ]
  }
 ],
 "metadata": {
  "kernelspec": {
   "display_name": "yolov8",
   "language": "python",
   "name": "python3"
  },
  "language_info": {
   "codemirror_mode": {
    "name": "ipython",
    "version": 3
   },
   "file_extension": ".py",
   "mimetype": "text/x-python",
   "name": "python",
   "nbconvert_exporter": "python",
   "pygments_lexer": "ipython3",
   "version": "3.8.18"
  }
 },
 "nbformat": 4,
 "nbformat_minor": 2
}
